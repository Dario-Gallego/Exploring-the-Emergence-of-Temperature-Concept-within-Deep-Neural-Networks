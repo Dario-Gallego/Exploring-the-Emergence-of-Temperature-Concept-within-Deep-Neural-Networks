{
 "cells": [
  {
   "attachments": {},
   "cell_type": "markdown",
   "metadata": {},
   "source": [
    "# From images to coordinates"
   ]
  },
  {
   "attachments": {},
   "cell_type": "markdown",
   "metadata": {},
   "source": [
    "### Initial imports"
   ]
  },
  {
   "cell_type": "code",
   "execution_count": 1,
   "metadata": {},
   "outputs": [],
   "source": [
    "import keras\n",
    "from keras.callbacks import EarlyStopping\n",
    "\n",
    "from src.experiment.data_loading import (\n",
    "    load_and_process_coordinates,\n",
    "    load_image_set,\n",
    "    prepare_train_val_test_splits,\n",
    ")\n",
    "from src.experiment.models import build_img_to_coordinates_model\n",
    "from src.experiment.regression_evaluation import (\n",
    "    regression_evaluation,\n",
    ")"
   ]
  },
  {
   "attachments": {},
   "cell_type": "markdown",
   "metadata": {},
   "source": [
    "### Loading images"
   ]
  },
  {
   "cell_type": "code",
   "execution_count": 2,
   "metadata": {},
   "outputs": [
    {
     "name": "stderr",
     "output_type": "stream",
     "text": [
      "100%|██████████| 10000/10000 [00:02<00:00, 3387.21it/s]\n",
      "100%|██████████| 10000/10000 [00:02<00:00, 3636.34it/s]\n"
     ]
    }
   ],
   "source": [
    "# Dataset dependant parameters\n",
    "DATA_FOLDER = \"data/3ball\"\n",
    "NUM_BALLS = 3\n",
    "PIXELS_PER_AXIS = 32\n",
    "COLORED_BALLS = False\n",
    "\n",
    "X1, X2, Y = load_image_set(data_folder=DATA_FOLDER, colored_balls=COLORED_BALLS)"
   ]
  },
  {
   "attachments": {},
   "cell_type": "markdown",
   "metadata": {},
   "source": [
    "### Coordinates generation and data split"
   ]
  },
  {
   "cell_type": "code",
   "execution_count": 3,
   "metadata": {},
   "outputs": [],
   "source": [
    "coordinates = load_and_process_coordinates(\n",
    "    data_folder=DATA_FOLDER, num_balls=NUM_BALLS, pixels_per_axis=PIXELS_PER_AXIS\n",
    ")\n",
    "\n",
    "# Prepare train, validation, and test splits\n",
    "(\n",
    "    x_train,\n",
    "    x_val,\n",
    "    x_test,\n",
    "    y_train,\n",
    "    y_val,\n",
    "    y_test,\n",
    "    coordinates_train,\n",
    "    coordinates_val,\n",
    "    coordinates_test,\n",
    ") = prepare_train_val_test_splits(X1, X2, Y, coordinates)"
   ]
  },
  {
   "attachments": {},
   "cell_type": "markdown",
   "metadata": {},
   "source": [
    "### Model definition and training"
   ]
  },
  {
   "cell_type": "code",
   "execution_count": 4,
   "metadata": {
    "colab": {
     "base_uri": "https://localhost:8080/",
     "height": 415
    },
    "id": "izhQ3_w019zW",
    "outputId": "2b126d59-1d3f-477e-aebd-eb776998f206"
   },
   "outputs": [
    {
     "name": "stdout",
     "output_type": "stream",
     "text": [
      "Model: \"ImgToCoordinates\"\n",
      "_________________________________________________________________\n",
      " Layer (type)                Output Shape              Param #   \n",
      "=================================================================\n",
      " input_1 (InputLayer)        [(None, 32, 32, 2)]       0         \n",
      "                                                                 \n",
      " conv2d (Conv2D)             (None, 30, 30, 1)         19        \n",
      "                                                                 \n",
      " conv2d_1 (Conv2D)           (None, 28, 28, 1)         10        \n",
      "                                                                 \n",
      " conv2d_2 (Conv2D)           (None, 1, 1, 6)           4710      \n",
      "                                                                 \n",
      " flatten (Flatten)           (None, 6)                 0         \n",
      "                                                                 \n",
      " dense (Dense)               (None, 36)                252       \n",
      "                                                                 \n",
      " dense_1 (Dense)             (None, 12)                444       \n",
      "                                                                 \n",
      "=================================================================\n",
      "Total params: 5,435\n",
      "Trainable params: 5,435\n",
      "Non-trainable params: 0\n",
      "_________________________________________________________________\n"
     ]
    }
   ],
   "source": [
    "model = build_img_to_coordinates_model(\n",
    "    num_balls=NUM_BALLS, pixels_per_axis=PIXELS_PER_AXIS, colored_balls=COLORED_BALLS\n",
    ")\n",
    "model.summary()\n",
    "\n",
    "# Free up RAM in case the model definition cells were run multiple times\n",
    "keras.backend.clear_session()"
   ]
  },
  {
   "cell_type": "code",
   "execution_count": 5,
   "metadata": {},
   "outputs": [
    {
     "name": "stdout",
     "output_type": "stream",
     "text": [
      "Epoch 1/100\n",
      "500/500 [==============================] - 7s 11ms/step - loss: 0.2415 - val_loss: 0.2193\n",
      "Epoch 2/100\n",
      "500/500 [==============================] - 5s 10ms/step - loss: 0.2194 - val_loss: 0.2157\n",
      "Epoch 3/100\n",
      "500/500 [==============================] - 5s 10ms/step - loss: 0.2158 - val_loss: 0.2123\n",
      "Epoch 4/100\n",
      "500/500 [==============================] - 5s 9ms/step - loss: 0.2118 - val_loss: 0.2096\n",
      "Epoch 5/100\n",
      "500/500 [==============================] - 4s 8ms/step - loss: 0.2079 - val_loss: 0.2054\n",
      "Epoch 6/100\n",
      "500/500 [==============================] - 5s 10ms/step - loss: 0.2052 - val_loss: 0.2043\n",
      "Epoch 7/100\n",
      "500/500 [==============================] - 6s 12ms/step - loss: 0.2040 - val_loss: 0.2041\n",
      "Epoch 8/100\n",
      "500/500 [==============================] - 6s 12ms/step - loss: 0.2034 - val_loss: 0.2034\n",
      "Epoch 9/100\n",
      "500/500 [==============================] - 7s 13ms/step - loss: 0.2033 - val_loss: 0.2051\n",
      "Epoch 10/100\n",
      "500/500 [==============================] - 4s 8ms/step - loss: 0.2028 - val_loss: 0.2047\n",
      "Epoch 11/100\n",
      "500/500 [==============================] - 4s 8ms/step - loss: 0.2024 - val_loss: 0.2040\n",
      "Epoch 12/100\n",
      "500/500 [==============================] - 3s 6ms/step - loss: 0.2021 - val_loss: 0.2049\n",
      "Epoch 13/100\n",
      "500/500 [==============================] - 3s 6ms/step - loss: 0.2018 - val_loss: 0.2042\n",
      "Epoch 14/100\n",
      "500/500 [==============================] - 3s 5ms/step - loss: 0.2017 - val_loss: 0.2037\n",
      "Epoch 15/100\n",
      "500/500 [==============================] - 3s 5ms/step - loss: 0.2012 - val_loss: 0.2038\n",
      "Epoch 16/100\n",
      "500/500 [==============================] - 3s 5ms/step - loss: 0.2012 - val_loss: 0.2041\n",
      "Epoch 17/100\n",
      "500/500 [==============================] - 3s 5ms/step - loss: 0.2010 - val_loss: 0.2043\n",
      "Epoch 18/100\n",
      "500/500 [==============================] - 3s 5ms/step - loss: 0.2007 - val_loss: 0.2047\n"
     ]
    },
    {
     "data": {
      "text/plain": [
       "<keras.callbacks.History at 0x1e99290f1c0>"
      ]
     },
     "execution_count": 5,
     "metadata": {},
     "output_type": "execute_result"
    }
   ],
   "source": [
    "model.compile(loss=\"mae\", optimizer=\"adam\")\n",
    "\n",
    "model.fit(\n",
    "    x_train,\n",
    "    coordinates_train,\n",
    "    epochs=100,\n",
    "    batch_size=16,\n",
    "    shuffle=True,\n",
    "    validation_data=(x_val, coordinates_val),\n",
    "    callbacks=[\n",
    "        EarlyStopping(\n",
    "            monitor=\"val_loss\", patience=10, restore_best_weights=True, min_delta=0.0001\n",
    "        )\n",
    "    ],\n",
    ")"
   ]
  },
  {
   "attachments": {},
   "cell_type": "markdown",
   "metadata": {},
   "source": [
    "### Model results"
   ]
  },
  {
   "cell_type": "code",
   "execution_count": 6,
   "metadata": {},
   "outputs": [
    {
     "name": "stdout",
     "output_type": "stream",
     "text": [
      "32/32 [==============================] - 0s 5ms/step\n",
      "0\n",
      "Prediction: [ 0.48747224  0.3961269   0.4812074   0.40900043  0.5058669   0.42896134\n",
      " -0.00442183  0.5235008   0.00289989  0.49434146 -0.0021149   0.49652472]\n",
      "True values: [ 0.32258065  0.67741935  0.70967742  0.19354839  0.51612903  0.48387097\n",
      "  0.          0.5        -0.5         0.5         0.5         0.25      ]\n",
      "1\n",
      "Prediction: [ 0.4211915   0.5016501   0.389774    0.52944976  0.4289481   0.55260056\n",
      "  0.00145395 -0.16636434  0.00613198 -0.2035939   0.0050637  -0.2148546 ]\n",
      "True values: [ 0.61290323  0.80645161  0.25806452  0.41935484  0.35483871  0.4516129\n",
      "  0.         -0.25        0.25       -0.25       -0.25        0.25      ]\n",
      "2\n",
      "Prediction: [ 0.46910405  0.45857638  0.49549076  0.4349512   0.45547453  0.45169327\n",
      " -0.00232383  0.17532575  0.00224506  0.21334204 -0.00318912  0.15318155]\n",
      "True values: [ 0.4516129   0.25806452  0.38709677  0.32258065  0.67741935  0.70967742\n",
      " -0.75       -0.25       -0.25       -0.5         0.5         0.5       ]\n",
      "3\n",
      "Prediction: [0.40374753 0.6045468  0.42881086 0.60407513 0.38962883 0.62229323\n",
      " 0.00237768 0.23807597 0.00331949 0.2510061  0.0048605  0.2084203 ]\n",
      "True values: [ 0.41935484  0.77419355  0.38709677  0.67741935  0.41935484  0.25806452\n",
      "  0.5         0.5         0.5        -0.5         0.          0.75      ]\n",
      "4\n",
      "Prediction: [ 0.44300333  0.36003932  0.44809857  0.339306    0.43675435  0.35758552\n",
      " -0.00500993  0.04828545  0.00196892  0.0664208  -0.00628326  0.06745134]\n",
      "True values: [0.25806452 0.22580645 0.5483871  0.51612903 0.70967742 0.51612903\n",
      " 0.         0.25       0.         0.25       0.25       0.25      ]\n"
     ]
    }
   ],
   "source": [
    "regression_evaluation(regressor_model=model, x_test=x_test, y_test=coordinates_test)"
   ]
  }
 ],
 "metadata": {
  "accelerator": "GPU",
  "colab": {
   "provenance": []
  },
  "gpuClass": "standard",
  "kernelspec": {
   "display_name": "thesis",
   "language": "python",
   "name": "python3"
  },
  "language_info": {
   "codemirror_mode": {
    "name": "ipython",
    "version": 3
   },
   "file_extension": ".py",
   "mimetype": "text/x-python",
   "name": "python",
   "nbconvert_exporter": "python",
   "pygments_lexer": "ipython3",
   "version": "3.9.15"
  },
  "orig_nbformat": 4,
  "vscode": {
   "interpreter": {
    "hash": "63a4dc49e75b3ba52538fc9a96138b714fbb90abc770225ff62782ff75259691"
   }
  }
 },
 "nbformat": 4,
 "nbformat_minor": 0
}
