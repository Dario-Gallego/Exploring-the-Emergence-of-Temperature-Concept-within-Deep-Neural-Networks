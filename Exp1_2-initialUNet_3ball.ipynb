{
 "cells": [
  {
   "attachments": {},
   "cell_type": "markdown",
   "metadata": {},
   "source": [
    "# U-Net"
   ]
  },
  {
   "attachments": {},
   "cell_type": "markdown",
   "metadata": {},
   "source": [
    "### Initial imports"
   ]
  },
  {
   "cell_type": "code",
   "execution_count": 1,
   "metadata": {},
   "outputs": [],
   "source": [
    "import numpy as np\n",
    "import matplotlib.pyplot as plt\n",
    "import cv2\n",
    "from tqdm import tqdm\n",
    "from glob import glob\n",
    "from sklearn.model_selection import train_test_split\n",
    "from sklearn.linear_model import LinearRegression\n",
    "from sklearn.metrics import mean_squared_error\n",
    "\n",
    "import keras\n",
    "from keras.layers import (\n",
    "    Input,\n",
    "    Conv2D,\n",
    "    MaxPooling2D,\n",
    "    Flatten,\n",
    "    Conv2DTranspose,\n",
    "    BatchNormalization,\n",
    "    Dense,\n",
    "    Dropout,\n",
    ")\n",
    "from keras.models import Model\n",
    "from keras.callbacks import EarlyStopping"
   ]
  },
  {
   "attachments": {},
   "cell_type": "markdown",
   "metadata": {},
   "source": [
    "### Loading images"
   ]
  },
  {
   "cell_type": "code",
   "execution_count": 2,
   "metadata": {},
   "outputs": [
    {
     "name": "stderr",
     "output_type": "stream",
     "text": [
      "100%|██████████| 10000/10000 [00:05<00:00, 1864.63it/s]\n",
      "100%|██████████| 10000/10000 [00:04<00:00, 2360.73it/s]\n",
      "100%|██████████| 10000/10000 [00:04<00:00, 2395.19it/s]\n"
     ]
    }
   ],
   "source": [
    "# Dataset dependant parameters\n",
    "data_path = \"data/3ball/\"\n",
    "num_systems = 10000\n",
    "num_balls = 3\n",
    "pix = 32\n",
    "\n",
    "X1 = []\n",
    "for i in tqdm(glob(data_path + \"Input/image1_*.png\")):\n",
    "    im = cv2.imread(i, cv2.IMREAD_GRAYSCALE)\n",
    "    im = keras.utils.img_to_array(im)\n",
    "    X1.append(im)\n",
    "X1 = np.array(X1, dtype=\"float32\") / 255\n",
    "\n",
    "X2 = []\n",
    "for i in tqdm(glob(data_path + \"Input/image2_*.png\")):\n",
    "    im = cv2.imread(i, cv2.IMREAD_GRAYSCALE)\n",
    "    im = keras.utils.img_to_array(im)\n",
    "    X2.append(im)\n",
    "X2 = np.array(X2, dtype=\"float32\") / 255\n",
    "\n",
    "Y = []\n",
    "for i in tqdm(glob(data_path + \"Output/*.png\")):\n",
    "    im = cv2.imread(i, cv2.IMREAD_GRAYSCALE)\n",
    "    im = keras.utils.img_to_array(im)\n",
    "    Y.append(im)\n",
    "Y = np.array(Y, dtype=\"float32\") / 255"
   ]
  },
  {
   "attachments": {},
   "cell_type": "markdown",
   "metadata": {},
   "source": [
    "### Temperature computation and data split"
   ]
  },
  {
   "cell_type": "code",
   "execution_count": 3,
   "metadata": {},
   "outputs": [],
   "source": [
    "coordinates = np.loadtxt(data_path + \"coordinates.csv\", delimiter=\",\")\n",
    "coordinates = coordinates[:, -2 * num_balls :] / 4\n",
    "\n",
    "temperature = np.zeros((num_systems))\n",
    "\n",
    "for i in range(num_systems):\n",
    "    for j in range(num_balls):\n",
    "        # Add the speed of each ball to the temperature\n",
    "        temperature[i] += np.sqrt(\n",
    "            np.sum(np.square(coordinates[i, 2 * j : 2 * (j + 1)]))\n",
    "        )\n",
    "\n",
    "    # Divide by number of balls to get the mean\n",
    "    temperature[i] /= num_balls\n",
    "\n",
    "# Concatenate both frames\n",
    "X = np.concatenate((X1, X2), axis=3)\n",
    "# Train-val-test split (80-10-10)\n",
    "x_train, x_test, y_train, y_test, temperature_train, temperature_test = (\n",
    "    train_test_split(X, Y, temperature, test_size=0.2)\n",
    ")\n",
    "x_val, x_test, y_val, y_test, temperature_val, temperature_test = train_test_split(\n",
    "    x_test, y_test, temperature_test, test_size=0.5\n",
    ")"
   ]
  },
  {
   "attachments": {},
   "cell_type": "markdown",
   "metadata": {},
   "source": [
    "### Model definition and training"
   ]
  },
  {
   "cell_type": "code",
   "execution_count": 4,
   "metadata": {
    "colab": {
     "base_uri": "https://localhost:8080/",
     "height": 415
    },
    "id": "izhQ3_w019zW",
    "outputId": "2b126d59-1d3f-477e-aebd-eb776998f206"
   },
   "outputs": [
    {
     "name": "stdout",
     "output_type": "stream",
     "text": [
      "Model: \"U-Net\"\n",
      "__________________________________________________________________________________________________\n",
      " Layer (type)                   Output Shape         Param #     Connected to                     \n",
      "==================================================================================================\n",
      " input_1 (InputLayer)           [(None, 32, 32, 2)]  0           []                               \n",
      "                                                                                                  \n",
      " conv2d (Conv2D)                (None, 32, 32, 8)    152         ['input_1[0][0]']                \n",
      "                                                                                                  \n",
      " dropout (Dropout)              (None, 32, 32, 8)    0           ['conv2d[0][0]']                 \n",
      "                                                                                                  \n",
      " conv2d_1 (Conv2D)              (None, 32, 32, 8)    584         ['dropout[0][0]']                \n",
      "                                                                                                  \n",
      " max_pooling2d (MaxPooling2D)   (None, 16, 16, 8)    0           ['conv2d_1[0][0]']               \n",
      "                                                                                                  \n",
      " conv2d_2 (Conv2D)              (None, 16, 16, 16)   1168        ['max_pooling2d[0][0]']          \n",
      "                                                                                                  \n",
      " dropout_1 (Dropout)            (None, 16, 16, 16)   0           ['conv2d_2[0][0]']               \n",
      "                                                                                                  \n",
      " conv2d_3 (Conv2D)              (None, 16, 16, 16)   2320        ['dropout_1[0][0]']              \n",
      "                                                                                                  \n",
      " max_pooling2d_1 (MaxPooling2D)  (None, 8, 8, 16)    0           ['conv2d_3[0][0]']               \n",
      "                                                                                                  \n",
      " conv2d_4 (Conv2D)              (None, 8, 8, 32)     4640        ['max_pooling2d_1[0][0]']        \n",
      "                                                                                                  \n",
      " dropout_2 (Dropout)            (None, 8, 8, 32)     0           ['conv2d_4[0][0]']               \n",
      "                                                                                                  \n",
      " conv2d_5 (Conv2D)              (None, 8, 8, 32)     9248        ['dropout_2[0][0]']              \n",
      "                                                                                                  \n",
      " max_pooling2d_2 (MaxPooling2D)  (None, 4, 4, 32)    0           ['conv2d_5[0][0]']               \n",
      "                                                                                                  \n",
      " conv2d_6 (Conv2D)              (None, 4, 4, 64)     18496       ['max_pooling2d_2[0][0]']        \n",
      "                                                                                                  \n",
      " dropout_3 (Dropout)            (None, 4, 4, 64)     0           ['conv2d_6[0][0]']               \n",
      "                                                                                                  \n",
      " conv2d_7 (Conv2D)              (None, 4, 4, 64)     36928       ['dropout_3[0][0]']              \n",
      "                                                                                                  \n",
      " max_pooling2d_3 (MaxPooling2D)  (None, 2, 2, 64)    0           ['conv2d_7[0][0]']               \n",
      "                                                                                                  \n",
      " conv2d_8 (Conv2D)              (None, 2, 2, 128)    73856       ['max_pooling2d_3[0][0]']        \n",
      "                                                                                                  \n",
      " dropout_4 (Dropout)            (None, 2, 2, 128)    0           ['conv2d_8[0][0]']               \n",
      "                                                                                                  \n",
      " conv2d_9 (Conv2D)              (None, 2, 2, 128)    147584      ['dropout_4[0][0]']              \n",
      "                                                                                                  \n",
      " conv2d_transpose (Conv2DTransp  (None, 4, 4, 64)    32832       ['conv2d_9[0][0]']               \n",
      " ose)                                                                                             \n",
      "                                                                                                  \n",
      " concatenate (Concatenate)      (None, 4, 4, 128)    0           ['conv2d_transpose[0][0]',       \n",
      "                                                                  'conv2d_7[0][0]']               \n",
      "                                                                                                  \n",
      " conv2d_10 (Conv2D)             (None, 4, 4, 64)     73792       ['concatenate[0][0]']            \n",
      "                                                                                                  \n",
      " dropout_5 (Dropout)            (None, 4, 4, 64)     0           ['conv2d_10[0][0]']              \n",
      "                                                                                                  \n",
      " conv2d_11 (Conv2D)             (None, 4, 4, 64)     36928       ['dropout_5[0][0]']              \n",
      "                                                                                                  \n",
      " batch_normalization (BatchNorm  (None, 4, 4, 64)    256         ['conv2d_11[0][0]']              \n",
      " alization)                                                                                       \n",
      "                                                                                                  \n",
      " conv2d_transpose_1 (Conv2DTran  (None, 8, 8, 32)    8224        ['batch_normalization[0][0]']    \n",
      " spose)                                                                                           \n",
      "                                                                                                  \n",
      " concatenate_1 (Concatenate)    (None, 8, 8, 64)     0           ['conv2d_transpose_1[0][0]',     \n",
      "                                                                  'conv2d_5[0][0]']               \n",
      "                                                                                                  \n",
      " conv2d_12 (Conv2D)             (None, 8, 8, 32)     18464       ['concatenate_1[0][0]']          \n",
      "                                                                                                  \n",
      " dropout_6 (Dropout)            (None, 8, 8, 32)     0           ['conv2d_12[0][0]']              \n",
      "                                                                                                  \n",
      " conv2d_13 (Conv2D)             (None, 8, 8, 32)     9248        ['dropout_6[0][0]']              \n",
      "                                                                                                  \n",
      " batch_normalization_1 (BatchNo  (None, 8, 8, 32)    128         ['conv2d_13[0][0]']              \n",
      " rmalization)                                                                                     \n",
      "                                                                                                  \n",
      " conv2d_transpose_2 (Conv2DTran  (None, 16, 16, 16)  2064        ['batch_normalization_1[0][0]']  \n",
      " spose)                                                                                           \n",
      "                                                                                                  \n",
      " concatenate_2 (Concatenate)    (None, 16, 16, 32)   0           ['conv2d_transpose_2[0][0]',     \n",
      "                                                                  'conv2d_3[0][0]']               \n",
      "                                                                                                  \n",
      " conv2d_14 (Conv2D)             (None, 16, 16, 16)   4624        ['concatenate_2[0][0]']          \n",
      "                                                                                                  \n",
      " dropout_7 (Dropout)            (None, 16, 16, 16)   0           ['conv2d_14[0][0]']              \n",
      "                                                                                                  \n",
      " conv2d_15 (Conv2D)             (None, 16, 16, 16)   2320        ['dropout_7[0][0]']              \n",
      "                                                                                                  \n",
      " batch_normalization_2 (BatchNo  (None, 16, 16, 16)  64          ['conv2d_15[0][0]']              \n",
      " rmalization)                                                                                     \n",
      "                                                                                                  \n",
      " conv2d_transpose_3 (Conv2DTran  (None, 32, 32, 8)   520         ['batch_normalization_2[0][0]']  \n",
      " spose)                                                                                           \n",
      "                                                                                                  \n",
      " concatenate_3 (Concatenate)    (None, 32, 32, 16)   0           ['conv2d_transpose_3[0][0]',     \n",
      "                                                                  'conv2d_1[0][0]']               \n",
      "                                                                                                  \n",
      " conv2d_16 (Conv2D)             (None, 32, 32, 8)    1160        ['concatenate_3[0][0]']          \n",
      "                                                                                                  \n",
      " dropout_8 (Dropout)            (None, 32, 32, 8)    0           ['conv2d_16[0][0]']              \n",
      "                                                                                                  \n",
      " conv2d_17 (Conv2D)             (None, 32, 32, 8)    584         ['dropout_8[0][0]']              \n",
      "                                                                                                  \n",
      " batch_normalization_3 (BatchNo  (None, 32, 32, 8)   32          ['conv2d_17[0][0]']              \n",
      " rmalization)                                                                                     \n",
      "                                                                                                  \n",
      " conv2d_18 (Conv2D)             (None, 32, 32, 1)    9           ['batch_normalization_3[0][0]']  \n",
      "                                                                                                  \n",
      "==================================================================================================\n",
      "Total params: 486,225\n",
      "Trainable params: 485,985\n",
      "Non-trainable params: 240\n",
      "__________________________________________________________________________________________________\n"
     ]
    }
   ],
   "source": [
    "def double_conv_block(x, n_filters, drop_pct=0):\n",
    "    # Conv2D then ReLU activation\n",
    "    x = Conv2D(n_filters, (3, 3), activation=\"relu\", padding=\"same\")(x)\n",
    "    # Dropout\n",
    "    if drop_pct > 0:\n",
    "        x = Dropout(drop_pct)(x)\n",
    "    # Conv2D then ReLU activation\n",
    "    x = Conv2D(n_filters, (3, 3), activation=\"relu\", padding=\"same\")(x)\n",
    "    return x\n",
    "\n",
    "\n",
    "def downsample_block(x, n_filters, drop_pct=0):\n",
    "    f = double_conv_block(x, n_filters, drop_pct)\n",
    "    p = MaxPooling2D((2, 2))(f)\n",
    "    return f, p\n",
    "\n",
    "\n",
    "def upsample_block(x, conv_features, n_filters, drop_pct=0):\n",
    "    # upsample\n",
    "    x = Conv2DTranspose(n_filters, (2, 2), (2, 2), padding=\"same\")(x)\n",
    "    # concatenate\n",
    "    x = keras.layers.concatenate([x, conv_features])\n",
    "    # Conv2D twice with ReLU activation\n",
    "    x = double_conv_block(x, n_filters, drop_pct)\n",
    "    # batch normalization\n",
    "    x = BatchNormalization()(x)\n",
    "    return x\n",
    "\n",
    "\n",
    "# Input layer\n",
    "inputs = Input(shape=(pix, pix, 2))\n",
    "\n",
    "# Encoder layers\n",
    "f1, p1 = downsample_block(inputs, 8, drop_pct=0.1)\n",
    "f2, p2 = downsample_block(p1, 16, drop_pct=0.1)\n",
    "f3, p3 = downsample_block(p2, 32, drop_pct=0.2)\n",
    "f4, p4 = downsample_block(p3, 64, drop_pct=0.2)\n",
    "\n",
    "# Bottleneck layer\n",
    "bottleneck = double_conv_block(p4, 128, drop_pct=0.3)\n",
    "\n",
    "# Decoder layers\n",
    "u6 = upsample_block(bottleneck, f4, 64, drop_pct=0.2)\n",
    "u7 = upsample_block(u6, f3, 32, drop_pct=0.2)\n",
    "u8 = upsample_block(u7, f2, 16, drop_pct=0.1)\n",
    "u9 = upsample_block(u8, f1, 8, drop_pct=0.1)\n",
    "\n",
    "# Output layer\n",
    "outputs = Conv2D(1, (1, 1), activation=\"sigmoid\", padding=\"same\")(u9)\n",
    "\n",
    "unet_model = Model(inputs, outputs, name=\"U-Net\")\n",
    "unet_model.summary()\n",
    "\n",
    "# Free up RAM in case the model definition cells were run multiple times\n",
    "keras.backend.clear_session()"
   ]
  },
  {
   "cell_type": "code",
   "execution_count": 5,
   "metadata": {},
   "outputs": [
    {
     "name": "stdout",
     "output_type": "stream",
     "text": [
      "Epoch 1/100\n",
      "250/250 [==============================] - 54s 172ms/step - loss: 0.1237 - val_loss: 0.0306\n",
      "Epoch 2/100\n",
      "250/250 [==============================] - 44s 177ms/step - loss: 0.0535 - val_loss: 0.0476\n",
      "Epoch 3/100\n",
      "250/250 [==============================] - 47s 189ms/step - loss: 0.0464 - val_loss: 0.0451\n",
      "Epoch 4/100\n",
      "250/250 [==============================] - 42s 169ms/step - loss: 0.0369 - val_loss: 0.0172\n",
      "Epoch 5/100\n",
      "250/250 [==============================] - 38s 154ms/step - loss: 0.0134 - val_loss: 0.0120\n",
      "Epoch 6/100\n",
      "250/250 [==============================] - 41s 164ms/step - loss: 0.0117 - val_loss: 0.0109\n",
      "Epoch 7/100\n",
      "250/250 [==============================] - 44s 176ms/step - loss: 0.0111 - val_loss: 0.0105\n",
      "Epoch 8/100\n",
      "250/250 [==============================] - 53s 212ms/step - loss: 0.0108 - val_loss: 0.0113\n",
      "Epoch 9/100\n",
      "250/250 [==============================] - 42s 169ms/step - loss: 0.0106 - val_loss: 0.0104\n",
      "Epoch 10/100\n",
      "250/250 [==============================] - 43s 172ms/step - loss: 0.0104 - val_loss: 0.0100\n",
      "Epoch 11/100\n",
      "250/250 [==============================] - 40s 162ms/step - loss: 0.0103 - val_loss: 0.0099\n",
      "Epoch 12/100\n",
      "250/250 [==============================] - 35s 140ms/step - loss: 0.0102 - val_loss: 0.0096\n",
      "Epoch 13/100\n",
      "250/250 [==============================] - 31s 124ms/step - loss: 0.0100 - val_loss: 0.0096\n",
      "Epoch 14/100\n",
      "250/250 [==============================] - 31s 123ms/step - loss: 0.0099 - val_loss: 0.0095\n",
      "Epoch 15/100\n",
      "250/250 [==============================] - 31s 124ms/step - loss: 0.0099 - val_loss: 0.0094\n",
      "Epoch 16/100\n",
      "250/250 [==============================] - 31s 123ms/step - loss: 0.0098 - val_loss: 0.0093\n",
      "Epoch 17/100\n",
      "250/250 [==============================] - 31s 125ms/step - loss: 0.0097 - val_loss: 0.0092\n",
      "Epoch 18/100\n",
      "250/250 [==============================] - 31s 126ms/step - loss: 0.0096 - val_loss: 0.0092\n",
      "Epoch 19/100\n",
      "250/250 [==============================] - 31s 126ms/step - loss: 0.0096 - val_loss: 0.0092\n",
      "Epoch 20/100\n",
      "250/250 [==============================] - 32s 129ms/step - loss: 0.0094 - val_loss: 0.0092\n",
      "Epoch 21/100\n",
      "250/250 [==============================] - 32s 128ms/step - loss: 0.0093 - val_loss: 0.0089\n",
      "Epoch 22/100\n",
      "250/250 [==============================] - 31s 123ms/step - loss: 0.0091 - val_loss: 0.0085\n",
      "Epoch 23/100\n",
      "250/250 [==============================] - 31s 123ms/step - loss: 0.0090 - val_loss: 0.0086\n",
      "Epoch 24/100\n",
      "250/250 [==============================] - 31s 123ms/step - loss: 0.0088 - val_loss: 0.0083\n",
      "Epoch 25/100\n",
      "250/250 [==============================] - 31s 124ms/step - loss: 0.0087 - val_loss: 0.0083\n",
      "Epoch 26/100\n",
      "250/250 [==============================] - 31s 123ms/step - loss: 0.0086 - val_loss: 0.0086\n",
      "Epoch 27/100\n",
      "250/250 [==============================] - 31s 124ms/step - loss: 0.0086 - val_loss: 0.0083\n",
      "Epoch 28/100\n",
      "250/250 [==============================] - 31s 123ms/step - loss: 0.0086 - val_loss: 0.0082\n",
      "Epoch 29/100\n",
      "250/250 [==============================] - 31s 123ms/step - loss: 0.0085 - val_loss: 0.0082\n",
      "Epoch 30/100\n",
      "250/250 [==============================] - 31s 124ms/step - loss: 0.0085 - val_loss: 0.0080\n",
      "Epoch 31/100\n",
      "250/250 [==============================] - 31s 125ms/step - loss: 0.0084 - val_loss: 0.0080\n",
      "Epoch 32/100\n",
      "250/250 [==============================] - 31s 126ms/step - loss: 0.0084 - val_loss: 0.0080\n"
     ]
    },
    {
     "data": {
      "text/plain": [
       "<keras.callbacks.History at 0x22ce5735340>"
      ]
     },
     "execution_count": 5,
     "metadata": {},
     "output_type": "execute_result"
    }
   ],
   "source": [
    "unet_model.compile(optimizer=\"adam\", loss=\"mse\")\n",
    "\n",
    "unet_model.fit(\n",
    "    x_train,\n",
    "    y_train,\n",
    "    epochs=100,\n",
    "    batch_size=32,\n",
    "    shuffle=True,\n",
    "    validation_data=(x_val, y_val),\n",
    "    callbacks=[\n",
    "        EarlyStopping(\n",
    "            monitor=\"val_loss\", patience=10, restore_best_weights=True, min_delta=0.001\n",
    "        )\n",
    "    ],\n",
    ")"
   ]
  },
  {
   "attachments": {},
   "cell_type": "markdown",
   "metadata": {},
   "source": [
    "### Model reconstructions\n",
    "\n",
    "We print (from left to right) the 3 frames of the sample (2 inputs and output), an auxiliar image to see of how much movement there is between the first and final frame, the reconstructed image and the 3rd frame over the reconstructed image. This last image is useful to see if the position of the balls is accurately predicted."
   ]
  },
  {
   "cell_type": "code",
   "execution_count": 6,
   "metadata": {
    "id": "JByNv3BV19zY",
    "outputId": "abf8f9a4-b65d-4967-bf72-da466b34ba8d"
   },
   "outputs": [
    {
     "name": "stdout",
     "output_type": "stream",
     "text": [
      "32/32 [==============================] - 2s 34ms/step\n"
     ]
    },
    {
     "data": {
      "image/png": "[encoded data removed]",
      "text/plain": [
       "<Figure size 1600x9600 with 6 Axes>"
      ]
     },
     "metadata": {},
     "output_type": "display_data"
    },
    {
     "data": {
      "image/png": "[encoded data removed]",
      "text/plain": [
       "<Figure size 1600x9600 with 6 Axes>"
      ]
     },
     "metadata": {},
     "output_type": "display_data"
    },
    {
     "data": {
      "image/png": "[encoded data removed]",
      "text/plain": [
       "<Figure size 1600x9600 with 6 Axes>"
      ]
     },
     "metadata": {},
     "output_type": "display_data"
    },
    {
     "data": {
      "image/png": "[encoded data removed]",
      "text/plain": [
       "<Figure size 1600x9600 with 6 Axes>"
      ]
     },
     "metadata": {},
     "output_type": "display_data"
    },
    {
     "data": {
      "image/png": "[encoded data removed]",
      "text/plain": [
       "<Figure size 1600x9600 with 6 Axes>"
      ]
     },
     "metadata": {},
     "output_type": "display_data"
    },
    {
     "data": {
      "image/png": "[encoded data removed]",
      "text/plain": [
       "<Figure size 1600x9600 with 6 Axes>"
      ]
     },
     "metadata": {},
     "output_type": "display_data"
    },
    {
     "data": {
      "image/png": "[encoded data removed]",
      "text/plain": [
       "<Figure size 1600x9600 with 6 Axes>"
      ]
     },
     "metadata": {},
     "output_type": "display_data"
    },
    {
     "data": {
      "image/png": "[encoded data removed]",
      "text/plain": [
       "<Figure size 1600x9600 with 6 Axes>"
      ]
     },
     "metadata": {},
     "output_type": "display_data"
    },
    {
     "data": {
      "image/png": "[encoded data removed]",
      "text/plain": [
       "<Figure size 1600x9600 with 6 Axes>"
      ]
     },
     "metadata": {},
     "output_type": "display_data"
    },
    {
     "data": {
      "image/png": "[encoded data removed]",
      "text/plain": [
       "<Figure size 1600x9600 with 6 Axes>"
      ]
     },
     "metadata": {},
     "output_type": "display_data"
    }
   ],
   "source": [
    "predictions = unet_model.predict(x_test)\n",
    "\n",
    "for i in range(10):\n",
    "    plt.figure(figsize=(16, 96))\n",
    "    # First image\n",
    "    plt.subplot(1, 6, 1)\n",
    "    plt.imshow(x_test[i, :, :, 0].reshape(pix, pix), cmap=\"gray\")\n",
    "\n",
    "    # Second image\n",
    "    plt.subplot(1, 6, 2)\n",
    "    plt.imshow(x_test[i, :, :, 1].reshape(pix, pix), cmap=\"gray\")\n",
    "\n",
    "    # Third image\n",
    "    plt.subplot(1, 6, 3)\n",
    "    plt.imshow(y_test[i].reshape(pix, pix), cmap=\"gray\")\n",
    "\n",
    "    # Balls in first and final frame to check how much movement there is on that sample\n",
    "    plt.subplot(1, 6, 4)\n",
    "    plt.imshow(\n",
    "        y_test[i].reshape(pix, pix) + x_test[i, :, :, 0].reshape(pix, pix), cmap=\"gray\"\n",
    "    )\n",
    "\n",
    "    # Predicted image\n",
    "    plt.subplot(1, 6, 5)\n",
    "    plt.imshow(predictions[i].reshape(pix, pix), cmap=\"gray\")\n",
    "\n",
    "    # Image to predict over reconstruction\n",
    "    plt.subplot(1, 6, 6)\n",
    "    plt.imshow(\n",
    "        y_test[i].reshape(pix, pix) + predictions[i].reshape(pix, pix) / 2, cmap=\"gray\"\n",
    "    )\n",
    "\n",
    "    plt.show()"
   ]
  },
  {
   "attachments": {},
   "cell_type": "markdown",
   "metadata": {},
   "source": [
    "### Temperature regression\n",
    "\n",
    "We will try to regress the temperature of the system with the activation weights of the last concatenation layer (it should have all the information from the skip connections and the downsample and umpsample path)."
   ]
  },
  {
   "cell_type": "code",
   "execution_count": 7,
   "metadata": {},
   "outputs": [
    {
     "name": "stdout",
     "output_type": "stream",
     "text": [
      "250/250 [==============================] - 6s 24ms/step\n",
      "32/32 [==============================] - 1s 18ms/step\n",
      "32/32 [==============================] - 1s 18ms/step\n"
     ]
    }
   ],
   "source": [
    "last_layer = Model(\n",
    "    inputs=unet_model.input, outputs=unet_model.get_layer(\"concatenate_3\").output\n",
    ")\n",
    "\n",
    "# Get the encoded representation of the images in train, validation and test sets\n",
    "encoded_imgs_train = last_layer.predict(x_train)\n",
    "encoded_imgs_val = last_layer.predict(x_val)\n",
    "encoded_imgs_test = last_layer.predict(x_test)\n",
    "\n",
    "# Reshape to vectors (flatten)\n",
    "encoded_imgs_train_flat = encoded_imgs_train.reshape((encoded_imgs_train.shape[0], -1))\n",
    "encoded_imgs_val_flat = encoded_imgs_val.reshape((encoded_imgs_val.shape[0], -1))\n",
    "encoded_imgs_test_flat = encoded_imgs_test.reshape((encoded_imgs_test.shape[0], -1))"
   ]
  },
  {
   "attachments": {},
   "cell_type": "markdown",
   "metadata": {},
   "source": [
    "Let us try with a linear regression with just the activation weights."
   ]
  },
  {
   "cell_type": "code",
   "execution_count": 8,
   "metadata": {},
   "outputs": [
    {
     "name": "stdout",
     "output_type": "stream",
     "text": [
      "MSE: 10.43073357014538\n",
      "Sample 0\n",
      "Prediction: -33.07373\n",
      "Actual temperature: 0.6165288031390141\n",
      "Sample 1\n",
      "Prediction: -0.18151855\n",
      "Actual temperature: 0.7492253987428809\n",
      "Sample 2\n",
      "Prediction: 0.60876465\n",
      "Actual temperature: 0.16666666666666666\n",
      "Sample 3\n",
      "Prediction: 0.45214844\n",
      "Actual temperature: 0.3678511301977579\n",
      "Sample 4\n",
      "Prediction: 0.2756958\n",
      "Actual temperature: 0.45118446353109126\n"
     ]
    }
   ],
   "source": [
    "temperature_regressor_1 = LinearRegression()\n",
    "temperature_regressor_1.fit(encoded_imgs_train_flat, temperature_train)\n",
    "score = mean_squared_error(\n",
    "    temperature_val, temperature_regressor_1.predict(encoded_imgs_val_flat)\n",
    ")\n",
    "print(\"MSE: \" + str(score))\n",
    "\n",
    "temperature_predictions = temperature_regressor_1.predict(encoded_imgs_test_flat)\n",
    "\n",
    "for i in range(5):\n",
    "    print(\n",
    "        \"Sample \"\n",
    "        + str(i)\n",
    "        + \"\\nPrediction: \"\n",
    "        + str(temperature_predictions[i])\n",
    "        + \"\\nActual temperature: \"\n",
    "        + str(temperature_test[i])\n",
    "    )"
   ]
  },
  {
   "attachments": {},
   "cell_type": "markdown",
   "metadata": {},
   "source": [
    "Next, we try applying a convolutional layer and a fully-connected network."
   ]
  },
  {
   "cell_type": "code",
   "execution_count": 9,
   "metadata": {},
   "outputs": [
    {
     "name": "stdout",
     "output_type": "stream",
     "text": [
      "Model: \"ConvAndFC\"\n",
      "_________________________________________________________________\n",
      " Layer (type)                Output Shape              Param #   \n",
      "=================================================================\n",
      " input_1 (InputLayer)        [(None, 32, 32, 16)]      0         \n",
      "                                                                 \n",
      " conv2d (Conv2D)             (None, 30, 30, 1)         145       \n",
      "                                                                 \n",
      " flatten (Flatten)           (None, 900)               0         \n",
      "                                                                 \n",
      " dense (Dense)               (None, 128)               115328    \n",
      "                                                                 \n",
      " dense_1 (Dense)             (None, 16)                2064      \n",
      "                                                                 \n",
      " dense_2 (Dense)             (None, 1)                 17        \n",
      "                                                                 \n",
      "=================================================================\n",
      "Total params: 117,554\n",
      "Trainable params: 117,554\n",
      "Non-trainable params: 0\n",
      "_________________________________________________________________\n"
     ]
    }
   ],
   "source": [
    "inputs = Input(shape=(pix, pix, 16))\n",
    "\n",
    "x = Conv2D(1, (3, 3), activation=\"relu\")(inputs)\n",
    "x = Flatten()(x)\n",
    "x = Dense(128, activation=\"relu\")(x)\n",
    "x = Dense(16, activation=\"relu\")(x)\n",
    "\n",
    "outputs = Dense(1, activation=\"sigmoid\")(x)\n",
    "\n",
    "temperature_regressor_2 = Model(inputs, outputs, name=\"ConvAndFC\")\n",
    "\n",
    "temperature_regressor_2.summary()\n",
    "\n",
    "# Free up RAM in case the model definition cells were run multiple times\n",
    "keras.backend.clear_session()"
   ]
  },
  {
   "cell_type": "code",
   "execution_count": 10,
   "metadata": {},
   "outputs": [
    {
     "name": "stdout",
     "output_type": "stream",
     "text": [
      "Epoch 1/100\n",
      "250/250 [==============================] - 10s 31ms/step - loss: 0.0087 - val_loss: 0.0086\n",
      "Epoch 2/100\n",
      "250/250 [==============================] - 6s 26ms/step - loss: 0.0081 - val_loss: 0.0083\n",
      "Epoch 3/100\n",
      "250/250 [==============================] - 5s 21ms/step - loss: 0.0080 - val_loss: 0.0094\n",
      "Epoch 4/100\n",
      "250/250 [==============================] - 7s 30ms/step - loss: 0.0077 - val_loss: 0.0085\n",
      "Epoch 5/100\n",
      "250/250 [==============================] - 7s 26ms/step - loss: 0.0075 - val_loss: 0.0082\n",
      "Epoch 6/100\n",
      "250/250 [==============================] - 6s 25ms/step - loss: 0.0072 - val_loss: 0.0088\n"
     ]
    },
    {
     "data": {
      "text/plain": [
       "<keras.callbacks.History at 0x22c831c0310>"
      ]
     },
     "execution_count": 10,
     "metadata": {},
     "output_type": "execute_result"
    }
   ],
   "source": [
    "temperature_regressor_2.compile(optimizer=\"adam\", loss=\"mse\")\n",
    "\n",
    "temperature_regressor_2.fit(\n",
    "    encoded_imgs_train,\n",
    "    temperature_train,\n",
    "    epochs=100,\n",
    "    batch_size=32,\n",
    "    shuffle=True,\n",
    "    validation_data=(encoded_imgs_val, temperature_val),\n",
    "    callbacks=[\n",
    "        EarlyStopping(\n",
    "            monitor=\"val_loss\", patience=5, restore_best_weights=True, min_delta=0.001\n",
    "        )\n",
    "    ],\n",
    ")"
   ]
  },
  {
   "cell_type": "code",
   "execution_count": 11,
   "metadata": {},
   "outputs": [
    {
     "name": "stdout",
     "output_type": "stream",
     "text": [
      "32/32 [==============================] - 0s 6ms/step\n",
      "Sample 0\n",
      "Prediction: [0.58604324]\n",
      "Actual temperature: 0.6165288031390141\n",
      "Sample 1\n",
      "Prediction: [0.7336272]\n",
      "Actual temperature: 0.7492253987428809\n",
      "Sample 2\n",
      "Prediction: [0.31073654]\n",
      "Actual temperature: 0.16666666666666666\n",
      "Sample 3\n",
      "Prediction: [0.48925507]\n",
      "Actual temperature: 0.3678511301977579\n",
      "Sample 4\n",
      "Prediction: [0.33366647]\n",
      "Actual temperature: 0.45118446353109126\n"
     ]
    }
   ],
   "source": [
    "temperature_predictions = temperature_regressor_2.predict(encoded_imgs_test)\n",
    "\n",
    "for i in range(5):\n",
    "    print(\n",
    "        \"Sample \"\n",
    "        + str(i)\n",
    "        + \"\\nPrediction: \"\n",
    "        + str(temperature_predictions[i])\n",
    "        + \"\\nActual temperature: \"\n",
    "        + str(temperature_test[i])\n",
    "    )"
   ]
  },
  {
   "attachments": {},
   "cell_type": "markdown",
   "metadata": {},
   "source": [
    "Lastly, we try with only a fully-connected network with no extra convolutional layers."
   ]
  },
  {
   "cell_type": "code",
   "execution_count": 12,
   "metadata": {},
   "outputs": [
    {
     "name": "stdout",
     "output_type": "stream",
     "text": [
      "Model: \"FC\"\n",
      "_________________________________________________________________\n",
      " Layer (type)                Output Shape              Param #   \n",
      "=================================================================\n",
      " input_1 (InputLayer)        [(None, 16384)]           0         \n",
      "                                                                 \n",
      " dense (Dense)               (None, 128)               2097280   \n",
      "                                                                 \n",
      " dense_1 (Dense)             (None, 16)                2064      \n",
      "                                                                 \n",
      " dropout (Dropout)           (None, 16)                0         \n",
      "                                                                 \n",
      " dense_2 (Dense)             (None, 1)                 17        \n",
      "                                                                 \n",
      "=================================================================\n",
      "Total params: 2,099,361\n",
      "Trainable params: 2,099,361\n",
      "Non-trainable params: 0\n",
      "_________________________________________________________________\n"
     ]
    }
   ],
   "source": [
    "inputs = Input(shape=(pix * pix * 16))\n",
    "\n",
    "x = Dense(128, activation=\"relu\")(inputs)\n",
    "x = Dense(16, activation=\"relu\")(x)\n",
    "x = Dropout(0.3)(x)\n",
    "\n",
    "outputs = Dense(1, activation=\"sigmoid\")(x)\n",
    "\n",
    "temperature_regressor_3 = Model(inputs, outputs, name=\"FC\")\n",
    "\n",
    "temperature_regressor_3.summary()\n",
    "\n",
    "# Free up RAM in case the model definition cells were run multiple times\n",
    "keras.backend.clear_session()"
   ]
  },
  {
   "cell_type": "code",
   "execution_count": 13,
   "metadata": {},
   "outputs": [
    {
     "name": "stdout",
     "output_type": "stream",
     "text": [
      "Epoch 1/100\n",
      "250/250 [==============================] - 17s 63ms/step - loss: 0.0174 - val_loss: 0.0093\n",
      "Epoch 2/100\n",
      "250/250 [==============================] - 14s 55ms/step - loss: 0.0132 - val_loss: 0.0101\n",
      "Epoch 3/100\n",
      "250/250 [==============================] - 13s 52ms/step - loss: 0.0128 - val_loss: 0.0088\n",
      "Epoch 4/100\n",
      "250/250 [==============================] - 12s 50ms/step - loss: 0.0129 - val_loss: 0.0086\n",
      "Epoch 5/100\n",
      "250/250 [==============================] - 13s 54ms/step - loss: 0.0130 - val_loss: 0.0093\n",
      "Epoch 6/100\n",
      "250/250 [==============================] - 13s 50ms/step - loss: 0.0130 - val_loss: 0.0092\n"
     ]
    },
    {
     "data": {
      "text/plain": [
       "<keras.callbacks.History at 0x22c83094d30>"
      ]
     },
     "execution_count": 13,
     "metadata": {},
     "output_type": "execute_result"
    }
   ],
   "source": [
    "temperature_regressor_3.compile(optimizer=\"adam\", loss=\"mse\")\n",
    "\n",
    "temperature_regressor_3.fit(\n",
    "    encoded_imgs_train_flat,\n",
    "    temperature_train,\n",
    "    epochs=100,\n",
    "    batch_size=32,\n",
    "    shuffle=True,\n",
    "    validation_data=(encoded_imgs_val_flat, temperature_val),\n",
    "    callbacks=[\n",
    "        EarlyStopping(\n",
    "            monitor=\"val_loss\", patience=5, restore_best_weights=True, min_delta=0.001\n",
    "        )\n",
    "    ],\n",
    ")"
   ]
  },
  {
   "cell_type": "code",
   "execution_count": 14,
   "metadata": {},
   "outputs": [
    {
     "name": "stdout",
     "output_type": "stream",
     "text": [
      "32/32 [==============================] - 0s 9ms/step\n",
      "Sample 0\n",
      "Prediction: [0.59511846]\n",
      "Actual temperature: 0.6165288031390141\n",
      "Sample 1\n",
      "Prediction: [0.70048004]\n",
      "Actual temperature: 0.7492253987428809\n",
      "Sample 2\n",
      "Prediction: [0.34254164]\n",
      "Actual temperature: 0.16666666666666666\n",
      "Sample 3\n",
      "Prediction: [0.50666255]\n",
      "Actual temperature: 0.3678511301977579\n",
      "Sample 4\n",
      "Prediction: [0.3534302]\n",
      "Actual temperature: 0.45118446353109126\n"
     ]
    }
   ],
   "source": [
    "temperature_predictions = temperature_regressor_3.predict(encoded_imgs_test_flat)\n",
    "\n",
    "for i in range(5):\n",
    "    print(\n",
    "        \"Sample \"\n",
    "        + str(i)\n",
    "        + \"\\nPrediction: \"\n",
    "        + str(temperature_predictions[i])\n",
    "        + \"\\nActual temperature: \"\n",
    "        + str(temperature_test[i])\n",
    "    )"
   ]
  }
 ],
 "metadata": {
  "accelerator": "GPU",
  "colab": {
   "provenance": []
  },
  "gpuClass": "standard",
  "kernelspec": {
   "display_name": "thesis",
   "language": "python",
   "name": "python3"
  },
  "language_info": {
   "codemirror_mode": {
    "name": "ipython",
    "version": 3
   },
   "file_extension": ".py",
   "mimetype": "text/x-python",
   "name": "python",
   "nbconvert_exporter": "python",
   "pygments_lexer": "ipython3",
   "version": "3.9.15"
  },
  "orig_nbformat": 4,
  "vscode": {
   "interpreter": {
    "hash": "63a4dc49e75b3ba52538fc9a96138b714fbb90abc770225ff62782ff75259691"
   }
  }
 },
 "nbformat": 4,
 "nbformat_minor": 0
}
