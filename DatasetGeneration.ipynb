{
 "cells": [
  {
   "attachments": {},
   "cell_type": "markdown",
   "metadata": {},
   "source": [
    "# Dataset Generation"
   ]
  },
  {
   "attachments": {},
   "cell_type": "markdown",
   "metadata": {},
   "source": [
    "### Initial imports"
   ]
  },
  {
   "cell_type": "code",
   "execution_count": 1,
   "metadata": {},
   "outputs": [],
   "source": [
    "import pybullet as p\n",
    "import numpy as np\n",
    "import matplotlib.pyplot as plt\n",
    "from tqdm import tqdm\n",
    "import os"
   ]
  },
  {
   "attachments": {},
   "cell_type": "markdown",
   "metadata": {},
   "source": [
    "### Simulation Data Collection\n",
    "Next, we generate and collect data from physics simulations of systems composed of a given amount of balls. The simulation is run for a specified number of systems.\n",
    "\n",
    "#### Parameters\n",
    "num_systems: The number of systems to simulate.\n",
    "\n",
    "num_balls: The number of balls in each system.\n",
    "\n",
    "color: True if the balls are identified by color, False if they are all black.\n",
    "\n",
    "#### Default Parameters\n",
    "density: The density of the balls.\n",
    "\n",
    "radius: The radius of the balls.\n",
    "\n",
    "#### Dataset Initialization\n",
    "A numpy array dataset is created to store the collected data. It has dimensions (num_systems, 8num_balls+1), where each row represents a system and each column corresponds to a particular property of the system.\n",
    "\n",
    "#### Simulation Execution\n",
    "For each system, the simulation is initialized using PyBullet's physics engine. Gravity is set to zero, and certain parameters of the physics engine are adjusted.\n",
    "\n",
    "The balls in the system are created and positioned randomly on a plane. Each ball is assigned a random velocity. The balls' properties such as position, orientation, and velocity are retrieved and stored for the initial frame.\n",
    "\n",
    "The simulation is stepped forward, and the properties of the balls for the second and third frames are recorded similarly. The positions and velocities of the balls in each frame are stored in separate numpy arrays.\n",
    "\n",
    "The collected data, including the position and velocity information for the three frames, as well as the velocity magnitude, are stored in the dataset array.\n",
    "\n",
    "Finally, the simulation is cleaned up by disconnecting from the physics server."
   ]
  },
  {
   "cell_type": "code",
   "execution_count": 2,
   "metadata": {},
   "outputs": [
    {
     "name": "stderr",
     "output_type": "stream",
     "text": [
      "  0%|          | 0/10000 [00:00<?, ?it/s]"
     ]
    },
    {
     "name": "stderr",
     "output_type": "stream",
     "text": [
      "100%|██████████| 10000/10000 [01:54<00:00, 87.54it/s]\n"
     ]
    }
   ],
   "source": [
    "# Modify this parameters to change imageset properties\n",
    "num_systems = 10000\n",
    "num_balls = 3\n",
    "color = False\n",
    "\n",
    "# Default parameters (do not modify)\n",
    "density = 1\n",
    "radius = 5\n",
    "\n",
    "# Initialization of the dataset\n",
    "dataset = np.zeros((num_systems, 8*num_balls+1))\n",
    "\n",
    "# Generation of all samples\n",
    "for i in tqdm(range(num_systems)):\n",
    "    # Initialize the simulation\n",
    "    physicsClient = p.connect(p.DIRECT)\n",
    "    p.setGravity(0, 0, 0)\n",
    "    p.setPhysicsEngineParameter(enableConeFriction=0, enableSAT=0)\n",
    "\n",
    "    # Creation of balls\n",
    "    balls = []\n",
    "    velocityMagnitude = np.random.uniform(20, 80)\n",
    "    for _ in range(num_balls):\n",
    "        # Create a sphere collision shape\n",
    "        sphere_shape_id = p.createCollisionShape(p.GEOM_SPHERE, radius=radius)\n",
    "\n",
    "        # Create a multi-body object with the sphere visual shape\n",
    "        visualShapeId = -1\n",
    "        ball_id = p.createMultiBody(density, sphere_shape_id, visualShapeId)\n",
    "\n",
    "        # Set random position of balls on the plane\n",
    "        p.resetBasePositionAndOrientation(ball_id, (np.random.uniform(-1,1), np.random.uniform(-1,1), 0), p.getQuaternionFromEuler([0, 0, 0]))\n",
    "\n",
    "        # Set velocity direction (magnitude already defined)\n",
    "        velocity_x = np.random.uniform(-1, 1)\n",
    "        velocity_y = np.sqrt(1 - velocity_x**2) * (-1)**np.random.randint(2)\n",
    "        baseVelocity = velocityMagnitude * np.array([velocity_x, velocity_y, 0])\n",
    "        p.resetBaseVelocity(ball_id, baseVelocity, (0, 0, 0))     \n",
    "\n",
    "        # Remove all factors that can affect the velocity (external forces, collisions, etc.)\n",
    "        p.changeDynamics(ball_id, -1, linearDamping=0, angularDamping=0)\n",
    "        p.applyExternalForce(ball_id, -1, [0, 0, 0], [0, 0, 0], p.WORLD_FRAME)\n",
    "        p.applyExternalTorque(ball_id, -1, [0, 0, 0], p.WORLD_FRAME)\n",
    "        p.changeDynamics(ball_id, -1, lateralFriction=0, restitution=0)\n",
    "        p.setCollisionFilterGroupMask(ball_id, -1, 0, 0)\n",
    "\n",
    "        # Store balls\n",
    "        balls.append(ball_id)\n",
    "\n",
    "    # Step of the simulation\n",
    "    time_step = 0.01\n",
    "        \n",
    "    # Record ball position and velocity information\n",
    "    image_t0 = np.zeros((num_balls, 2))\n",
    "    image_t1 = np.zeros((num_balls, 2))\n",
    "    image_t2 = np.zeros((num_balls, 2))\n",
    "    velocities_vector = np.zeros((num_balls, 2))\n",
    "    # Initial frame\n",
    "    for ball_id in balls:\n",
    "        image_t0[ball_id % num_balls] = p.getBasePositionAndOrientation(ball_id)[0][0], p.getBasePositionAndOrientation(ball_id)[0][1]\n",
    "        #Velocity vector remains constant (stored only once)\n",
    "        velocities_vector[ball_id % num_balls] = p.getBaseVelocity(ball_id)[0][0], p.getBaseVelocity(ball_id)[0][1]\n",
    "    p.stepSimulation()\n",
    "    # Second frame\n",
    "    for ball_id in balls:\n",
    "        image_t1[ball_id % num_balls] = p.getBasePositionAndOrientation(ball_id)[0][0], p.getBasePositionAndOrientation(ball_id)[0][1]\n",
    "    p.stepSimulation()\n",
    "    # Third frame\n",
    "    for ball_id in balls:\n",
    "        image_t2[ball_id % num_balls] = p.getBasePositionAndOrientation(ball_id)[0][0], p.getBasePositionAndOrientation(ball_id)[0][1]\n",
    "    # Save image and velocity data to dataset\n",
    "    dataset[i][0:2*num_balls] = image_t0.reshape(2*num_balls)\n",
    "    dataset[i][2*num_balls:4*num_balls] = image_t1.reshape(2*num_balls)\n",
    "    dataset[i][4*num_balls:6*num_balls] = image_t2.reshape(2*num_balls)\n",
    "    dataset[i][6*num_balls:8*num_balls] = velocities_vector.reshape(2*num_balls)\n",
    "    dataset[i][-1] = velocityMagnitude\n",
    "    # Clean up\n",
    "    p.disconnect()"
   ]
  },
  {
   "attachments": {},
   "cell_type": "markdown",
   "metadata": {},
   "source": [
    "### Visualization and Analysis\n",
    "A visualization and data check is performed to see that everything is working correctly.\n",
    "The scatter points plotted in red ('r'), yellow ('y') and blue ('b') correspond to the position in the initial, second and third frames respectively.\n",
    "\n",
    "In addition, we calculate the length between the positions of the first ball in the initial frame and the second frame using the Euclidean distance formula to check if the speed and distance ratio is correct."
   ]
  },
  {
   "cell_type": "code",
   "execution_count": 3,
   "metadata": {},
   "outputs": [
    {
     "data": {
      "image/png": "[encoded data removed]",
      "text/plain": [
       "<Figure size 640x480 with 1 Axes>"
      ]
     },
     "metadata": {},
     "output_type": "display_data"
    },
    {
     "name": "stdout",
     "output_type": "stream",
     "text": [
      "Length: 0.1684437303419911\n",
      "Speed: 40.426495282077866\n",
      "Speed * Length: 120.00000000000001\n"
     ]
    },
    {
     "data": {
      "image/png": "[encoded data removed]",
      "text/plain": [
       "<Figure size 640x480 with 1 Axes>"
      ]
     },
     "metadata": {},
     "output_type": "display_data"
    },
    {
     "name": "stdout",
     "output_type": "stream",
     "text": [
      "Length: 0.22801051583095455\n",
      "Speed: 54.722523799429084\n",
      "Speed * Length: 119.99999999999999\n"
     ]
    },
    {
     "data": {
      "image/png": "[encoded data removed]",
      "text/plain": [
       "<Figure size 640x480 with 1 Axes>"
      ]
     },
     "metadata": {},
     "output_type": "display_data"
    },
    {
     "name": "stdout",
     "output_type": "stream",
     "text": [
      "Length: 0.10056256023949617\n",
      "Speed: 24.13501445747909\n",
      "Speed * Length: 120.00000000000006\n"
     ]
    },
    {
     "data": {
      "image/png": "[encoded data removed]",
      "text/plain": [
       "<Figure size 640x480 with 1 Axes>"
      ]
     },
     "metadata": {},
     "output_type": "display_data"
    },
    {
     "name": "stdout",
     "output_type": "stream",
     "text": [
      "Length: 0.31611344398335856\n",
      "Speed: 75.86722655600605\n",
      "Speed * Length: 119.99999999999999\n"
     ]
    },
    {
     "data": {
      "image/png": "[encoded data removed]",
      "text/plain": [
       "<Figure size 640x480 with 1 Axes>"
      ]
     },
     "metadata": {},
     "output_type": "display_data"
    },
    {
     "name": "stdout",
     "output_type": "stream",
     "text": [
      "Length: 0.10676978721946222\n",
      "Speed: 25.624748932670933\n",
      "Speed * Length: 120.0\n"
     ]
    }
   ],
   "source": [
    "for i in range(5):\n",
    "    fig, ax = plt.subplots()\n",
    "\n",
    "    for j in range(num_balls):\n",
    "        # Ball position in frame 1\n",
    "        ax.scatter(dataset[i][2*j], dataset[i][2*j+1], c='r', s=10)\n",
    "        # Ball position in frame 2\n",
    "        ax.scatter(dataset[i][2*(j+num_balls)], dataset[i][2*(j+num_balls)+1], c='y', s=10)\n",
    "        # Ball position in frame 3\n",
    "        ax.scatter(dataset[i][2*(j+2*num_balls)], dataset[i][2*(j+2*num_balls)+1], c='b', s=10)\n",
    "\n",
    "    ax.set_xlabel('X')\n",
    "    ax.set_ylabel('Y')\n",
    "    ax.set_aspect('equal', adjustable='box')\n",
    "    plt.show()\n",
    "\n",
    "    print('Length: ' + str(np.sqrt((dataset[i][0] - dataset[i][2*num_balls])**2 + (dataset[i][1] - dataset[i][2*num_balls+1])**2)))\n",
    "    print('Speed: ' + str(dataset[i][-1]))\n",
    "    print('Speed * Length: ' + str(dataset[i][-1] / np.sqrt((dataset[i][0] - dataset[i][4*num_balls])**2 + (dataset[i][1] - dataset[i][4*num_balls+1])**2)))"
   ]
  },
  {
   "attachments": {},
   "cell_type": "markdown",
   "metadata": {},
   "source": [
    "### Coordinate Extraction\n",
    "First, we calculate the maximum and minimum values from the position coordinates and add a small margin to them. These values will be used to set the limits of the x and y axes in the plots. We would have a squared grid with the same limits for both axes.\n",
    "\n",
    "After that, we store the coordinates of each balls for all systems. We need to plot the balls separately to store their coordinates relative to the image, not to the system, and we print them separately to be able to identify all pixels correspondig to that ball. We calculate the mean x and y coordinates (what is the center pixel of the ball region) for each frame and store them in the coordinates array."
   ]
  },
  {
   "cell_type": "code",
   "execution_count": 4,
   "metadata": {},
   "outputs": [
    {
     "name": "stderr",
     "output_type": "stream",
     "text": [
      "100%|██████████| 10000/10000 [1:18:17<00:00,  2.13it/s] \n"
     ]
    }
   ],
   "source": [
    "# Limits of axes to have a square grid that contains all balls for any system\n",
    "ax_max = round(np.max(dataset[:,:6*num_balls]) + 0.1, 1)\n",
    "ax_min = round(np.min(dataset[:,:6*num_balls]) - 0.1, 1)\n",
    "\n",
    "coordinates = np.zeros((num_systems, 8*num_balls))\n",
    "\n",
    "for i in tqdm(range(num_systems)):\n",
    "    # Extraction of ball coordinates is done per ball\n",
    "    for j in range(num_balls):\n",
    "        non_white_x_t0 = []\n",
    "        non_white_y_t0 = []\n",
    "        non_white_x_t1 = []\n",
    "        non_white_y_t1 = []\n",
    "        non_white_x_t2 = []\n",
    "        non_white_y_t2 = []\n",
    "\n",
    "        for k in range(3):\n",
    "            # We plot the ball at the respective frame and set the images to have the same axes\n",
    "            plt.scatter(dataset[i, 2*j + 2*num_balls*k], dataset[i, 2*j + 2*num_balls*k + 1], c='k', s=2)\n",
    "            plt.xlim(ax_min, ax_max)\n",
    "            plt.ylim(ax_min, ax_max)\n",
    "            plt.axis('off')\n",
    "            plt.tight_layout(pad=0.0)\n",
    "            \n",
    "            # Set the figure size to your desired dimensions\n",
    "            fig = plt.gcf()\n",
    "            fig.set_size_inches(.32, .32)  # Adjust the size as needed\n",
    "\n",
    "            # Convert the plot to an array\n",
    "            fig.canvas.draw()\n",
    "            plot_array = np.array(fig.canvas.renderer.buffer_rgba())\n",
    "\n",
    "            # Convert the RGBA array to grayscale\n",
    "            plot_gray = np.dot(plot_array[..., :3], [0.2989, 0.5870, 0.1140])\n",
    "            plot_gray /= np.max(plot_gray)\n",
    "\n",
    "            fig.canvas.renderer.clear()\n",
    "            fig.clear()\n",
    "            plt.close()\n",
    "\n",
    "            # Store all pixels in ball region in the three frames (images are 32x32)\n",
    "            for m in range(32):\n",
    "                for n in range(32):\n",
    "                    if plot_gray[m, n] != 1:\n",
    "                        # Frame 0\n",
    "                        if k == 0:\n",
    "                            if m not in non_white_y_t0: non_white_y_t0.append(m)\n",
    "                            if n not in non_white_x_t0: non_white_x_t0.append(n)\n",
    "                        # Frame 1\n",
    "                        elif k == 1:\n",
    "                            if m not in non_white_y_t1: non_white_y_t1.append(m)\n",
    "                            if n not in non_white_x_t1: non_white_x_t1.append(n)\n",
    "                        # Frame 2\n",
    "                        elif k == 2:\n",
    "                            if m not in non_white_y_t2: non_white_y_t2.append(m)\n",
    "                            if n not in non_white_x_t2: non_white_x_t2.append(n)\n",
    "            \n",
    "        # Calculate the center pixel of each ball and the velocity vector\n",
    "        coordinates[i, 2*j : 2*(j+1)] = np.mean(non_white_y_t0), np.mean(non_white_x_t0)\n",
    "        coordinates[i, 2*num_balls + 2*j : 2*num_balls + 2*(j+1)] = np.mean(non_white_y_t1), np.mean(non_white_x_t1)\n",
    "        coordinates[i, 4*num_balls + 2*j : 4*num_balls + 2*(j+1)] = np.mean(non_white_y_t2), np.mean(non_white_x_t2)\n",
    "        coordinates[i, 6*num_balls + 2*j : 6*num_balls + 2*(j+1)] = np.mean(non_white_x_t1) - np.mean(non_white_x_t0), np.mean(non_white_y_t1) - np.mean(non_white_y_t0)"
   ]
  },
  {
   "attachments": {},
   "cell_type": "markdown",
   "metadata": {},
   "source": [
    "### Storing Images and Coordinates\n",
    "First, we set (and create if needed) the input and output directory paths based on the number of balls and the color flag.\n",
    "\n",
    "Then, we iterate over each system in the dataset. We extract the ball coordinates for each frame (balls_coordinates_t0, balls_coordinates_t1, balls_coordinates_t2) and generate and store the corresponding image.\n",
    "\n",
    "Lastly, we save the coordinates array as a CSV file with the respective naming convention."
   ]
  },
  {
   "cell_type": "code",
   "execution_count": 5,
   "metadata": {},
   "outputs": [
    {
     "name": "stderr",
     "output_type": "stream",
     "text": [
      "100%|██████████| 10000/10000 [31:32<00:00,  5.28it/s] \n"
     ]
    }
   ],
   "source": [
    "# Set directories name\n",
    "path = 'data/' + str(num_balls) + 'ball' + '_color' * color + '/'\n",
    "input_path = path + 'Input/'\n",
    "output_path = path + 'Output/'\n",
    "\n",
    "# Create directories if needed\n",
    "if not os.path.exists(path): os.makedirs(path)\n",
    "if not os.path.exists(input_path): os.makedirs(input_path)\n",
    "if not os.path.exists(output_path): os.makedirs(output_path)\n",
    "\n",
    "# Color of balls\n",
    "if color: colors = [\"r\", \"b\", \"g\"]\n",
    "else: colors = [\"k\"]\n",
    "\n",
    "for i in tqdm(range(num_systems)):\n",
    "    # Generate needed information to save input and output with same dimensions\n",
    "    balls_coordinates_t0 = dataset[i, 0 : 2*num_balls : 2], dataset[i, 1 : 2*num_balls : 2]\n",
    "    balls_coordinates_t1 = dataset[i, 2*num_balls : 4*num_balls : 2], dataset[i, 2*num_balls+1 : 4*num_balls : 2]\n",
    "    balls_coordinates_t2 = dataset[i, 4*num_balls : 6*num_balls : 2], dataset[i, 4*num_balls+1 : 6*num_balls : 2]\n",
    "\n",
    "    # Generate input images and save\n",
    "    plt.figure(figsize=(.42, .42))\n",
    "    plt.scatter(balls_coordinates_t0[0], balls_coordinates_t0[1], color=colors, s=2)\n",
    "    plt.xlim(ax_min, ax_max)\n",
    "    plt.ylim(ax_min, ax_max)\n",
    "    plt.axis('off')\n",
    "    plt.savefig(input_path + 'image1_{}.png'.format(str(i).zfill(4)), bbox_inches='tight', pad_inches=0.0)\n",
    "    plt.close()\n",
    "\n",
    "    plt.figure(figsize=(.42, .42))\n",
    "    plt.scatter(balls_coordinates_t1[0], balls_coordinates_t1[1], color=colors, s=2)\n",
    "    plt.xlim(ax_min, ax_max)\n",
    "    plt.ylim(ax_min, ax_max)\n",
    "    plt.axis('off')\n",
    "    plt.savefig(input_path + 'image2_{}.png'.format(str(i).zfill(4)), bbox_inches='tight', pad_inches=0.0)\n",
    "    plt.close()\n",
    "\n",
    "    # Generate output image and save\n",
    "    plt.figure(figsize=(.42, .42))\n",
    "    plt.scatter(balls_coordinates_t2[0], balls_coordinates_t2[1], color=colors, s=2)\n",
    "    plt.xlim(ax_min, ax_max)\n",
    "    plt.ylim(ax_min, ax_max)\n",
    "    plt.axis('off')\n",
    "    plt.savefig(output_path + 'image{}.png'.format(str(i).zfill(4)), bbox_inches='tight', pad_inches=0.0)\n",
    "    plt.close()\n",
    "\n",
    "# Save coordinates data\n",
    "np.savetxt(path + 'coordinates.csv', coordinates, delimiter=',')"
   ]
  },
  {
   "cell_type": "code",
   "execution_count": 6,
   "metadata": {},
   "outputs": [
    {
     "name": "stdout",
     "output_type": "stream",
     "text": [
      "1.7\n",
      "-1.8\n"
     ]
    }
   ],
   "source": [
    "print(ax_max)\n",
    "print(ax_min)"
   ]
  }
 ],
 "metadata": {
  "kernelspec": {
   "display_name": "thesis",
   "language": "python",
   "name": "python3"
  },
  "language_info": {
   "codemirror_mode": {
    "name": "ipython",
    "version": 3
   },
   "file_extension": ".py",
   "mimetype": "text/x-python",
   "name": "python",
   "nbconvert_exporter": "python",
   "pygments_lexer": "ipython3",
   "version": "3.9.15"
  },
  "orig_nbformat": 4,
  "vscode": {
   "interpreter": {
    "hash": "63a4dc49e75b3ba52538fc9a96138b714fbb90abc770225ff62782ff75259691"
   }
  }
 },
 "nbformat": 4,
 "nbformat_minor": 2
}
