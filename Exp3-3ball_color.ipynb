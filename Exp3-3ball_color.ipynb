{
 "cells": [
  {
   "attachments": {},
   "cell_type": "markdown",
   "metadata": {},
   "source": [
    "# From images to coordinates"
   ]
  },
  {
   "attachments": {},
   "cell_type": "markdown",
   "metadata": {},
   "source": [
    "### Initial imports"
   ]
  },
  {
   "cell_type": "code",
   "execution_count": 1,
   "metadata": {},
   "outputs": [],
   "source": [
    "import numpy as np\n",
    "import cv2\n",
    "from tqdm import tqdm\n",
    "from glob import glob\n",
    "from sklearn.model_selection import train_test_split\n",
    "\n",
    "import keras\n",
    "from keras.layers import Input, Conv2D, Flatten, Dense\n",
    "from keras.models import Model\n",
    "from keras.callbacks import EarlyStopping\n",
    "import keras.backend as K"
   ]
  },
  {
   "attachments": {},
   "cell_type": "markdown",
   "metadata": {},
   "source": [
    "### Loading images"
   ]
  },
  {
   "cell_type": "code",
   "execution_count": 2,
   "metadata": {},
   "outputs": [
    {
     "name": "stderr",
     "output_type": "stream",
     "text": [
      "100%|██████████| 10000/10000 [00:04<00:00, 2362.65it/s]\n",
      "100%|██████████| 10000/10000 [00:03<00:00, 2619.58it/s]\n"
     ]
    }
   ],
   "source": [
    "# Dataset dependant parameters\n",
    "data_path = \"data/3ball/\"\n",
    "num_balls = 3\n",
    "num_systems = 10000\n",
    "color = True\n",
    "pix = 32\n",
    "\n",
    "X1 = []\n",
    "for i in tqdm(glob(data_path + \"Input/image1_*.png\")):\n",
    "    if color:\n",
    "        im = cv2.imread(i)\n",
    "    else:\n",
    "        im = cv2.imread(i, cv2.IMREAD_GRAYSCALE)\n",
    "    im = keras.utils.img_to_array(im)\n",
    "    X1.append(im)\n",
    "X1 = np.array(X1, dtype=\"float32\") / 255\n",
    "\n",
    "X2 = []\n",
    "for i in tqdm(glob(data_path + \"Input/image2_*.png\")):\n",
    "    if color:\n",
    "        im = cv2.imread(i)\n",
    "    else:\n",
    "        im = cv2.imread(i, cv2.IMREAD_GRAYSCALE)\n",
    "    im = keras.utils.img_to_array(im)\n",
    "    X2.append(im)\n",
    "X2 = np.array(X2, dtype=\"float32\") / 255"
   ]
  },
  {
   "attachments": {},
   "cell_type": "markdown",
   "metadata": {},
   "source": [
    "### Coordinates generation and data split"
   ]
  },
  {
   "cell_type": "code",
   "execution_count": 3,
   "metadata": {},
   "outputs": [],
   "source": [
    "coordinates = np.loadtxt(data_path + \"coordinates.csv\", delimiter=\",\")\n",
    "# Store the position on the second frame and velocity vectors bounded to 1 (and -1 or 0 depending on if takes negative values)\n",
    "coordinates = np.concatenate(\n",
    "    (\n",
    "        coordinates[:, 2 * num_balls : 4 * num_balls] / (pix - 1),\n",
    "        coordinates[:, -2 * num_balls :] / 4,\n",
    "    ),\n",
    "    axis=1,\n",
    ")\n",
    "\n",
    "# Concatenate both frames\n",
    "X = np.concatenate((X1, X2), axis=3)\n",
    "# Train-val-test split (80-10-10)\n",
    "x_train, x_test, coordinates_train, coordinates_test = train_test_split(\n",
    "    X, coordinates, test_size=0.2\n",
    ")\n",
    "x_val, x_test, coordinates_val, coordinates_test = train_test_split(\n",
    "    x_test, coordinates_test, test_size=0.5\n",
    ")"
   ]
  },
  {
   "attachments": {},
   "cell_type": "markdown",
   "metadata": {},
   "source": [
    "### Model definition and training"
   ]
  },
  {
   "cell_type": "code",
   "execution_count": 4,
   "metadata": {
    "colab": {
     "base_uri": "https://localhost:8080/",
     "height": 415
    },
    "id": "izhQ3_w019zW",
    "outputId": "2b126d59-1d3f-477e-aebd-eb776998f206"
   },
   "outputs": [
    {
     "name": "stdout",
     "output_type": "stream",
     "text": [
      "Model: \"ImgToCoordinates\"\n",
      "_________________________________________________________________\n",
      " Layer (type)                Output Shape              Param #   \n",
      "=================================================================\n",
      " input_1 (InputLayer)        [(None, 32, 32, 6)]       0         \n",
      "                                                                 \n",
      " conv2d (Conv2D)             (None, 30, 30, 1)         55        \n",
      "                                                                 \n",
      " conv2d_1 (Conv2D)           (None, 28, 28, 1)         10        \n",
      "                                                                 \n",
      " conv2d_2 (Conv2D)           (None, 1, 1, 6)           4710      \n",
      "                                                                 \n",
      " flatten (Flatten)           (None, 6)                 0         \n",
      "                                                                 \n",
      " dense (Dense)               (None, 36)                252       \n",
      "                                                                 \n",
      " dense_1 (Dense)             (None, 12)                444       \n",
      "                                                                 \n",
      "=================================================================\n",
      "Total params: 5,471\n",
      "Trainable params: 5,471\n",
      "Non-trainable params: 0\n",
      "_________________________________________________________________\n"
     ]
    }
   ],
   "source": [
    "# Input layer\n",
    "inputs = Input(shape=(pix, pix, 2 + 4 * color))\n",
    "\n",
    "# Hidden layers\n",
    "x = Conv2D(1, (3, 3), activation=\"relu\")(inputs)\n",
    "x = Conv2D(1, (3, 3), activation=\"relu\")(x)\n",
    "x = Conv2D(6, (28, 28), activation=\"relu\")(x)\n",
    "x = Flatten()(x)\n",
    "x = Dense(12 * num_balls)(x)\n",
    "\n",
    "# Output layer\n",
    "outputs = Dense(4 * num_balls)(x)\n",
    "\n",
    "model = Model(inputs, outputs, name=\"ImgToCoordinates\")\n",
    "model.summary()\n",
    "\n",
    "# Free up RAM in case the model definition cells were run multiple times\n",
    "K.clear_session()"
   ]
  },
  {
   "cell_type": "code",
   "execution_count": 5,
   "metadata": {},
   "outputs": [
    {
     "name": "stdout",
     "output_type": "stream",
     "text": [
      "Epoch 1/100\n",
      "500/500 [==============================] - 11s 17ms/step - loss: 0.2408 - val_loss: 0.2244\n",
      "Epoch 2/100\n",
      "500/500 [==============================] - 5s 10ms/step - loss: 0.2218 - val_loss: 0.2210\n",
      "Epoch 3/100\n",
      "500/500 [==============================] - 3s 6ms/step - loss: 0.2204 - val_loss: 0.2203\n",
      "Epoch 4/100\n",
      "500/500 [==============================] - 3s 6ms/step - loss: 0.2185 - val_loss: 0.2169\n",
      "Epoch 5/100\n",
      "500/500 [==============================] - 3s 6ms/step - loss: 0.2157 - val_loss: 0.2147\n",
      "Epoch 6/100\n",
      "500/500 [==============================] - 3s 6ms/step - loss: 0.2139 - val_loss: 0.2117\n",
      "Epoch 7/100\n",
      "500/500 [==============================] - 3s 6ms/step - loss: 0.2104 - val_loss: 0.2062\n",
      "Epoch 8/100\n",
      "500/500 [==============================] - 3s 6ms/step - loss: 0.2054 - val_loss: 0.2047\n",
      "Epoch 9/100\n",
      "500/500 [==============================] - 3s 6ms/step - loss: 0.2042 - val_loss: 0.2044\n",
      "Epoch 10/100\n",
      "500/500 [==============================] - 3s 6ms/step - loss: 0.2036 - val_loss: 0.2042\n",
      "Epoch 11/100\n",
      "500/500 [==============================] - 3s 6ms/step - loss: 0.2030 - val_loss: 0.2038\n",
      "Epoch 12/100\n",
      "500/500 [==============================] - 3s 6ms/step - loss: 0.2028 - val_loss: 0.2050\n",
      "Epoch 13/100\n",
      "500/500 [==============================] - 3s 6ms/step - loss: 0.2025 - val_loss: 0.2035\n",
      "Epoch 14/100\n",
      "500/500 [==============================] - 3s 6ms/step - loss: 0.2024 - val_loss: 0.2039\n",
      "Epoch 15/100\n",
      "500/500 [==============================] - 3s 6ms/step - loss: 0.2021 - val_loss: 0.2034\n",
      "Epoch 16/100\n",
      "500/500 [==============================] - 3s 6ms/step - loss: 0.2019 - val_loss: 0.2037\n",
      "Epoch 17/100\n",
      "500/500 [==============================] - 3s 6ms/step - loss: 0.2019 - val_loss: 0.2069\n",
      "Epoch 18/100\n",
      "500/500 [==============================] - 3s 7ms/step - loss: 0.2015 - val_loss: 0.2037\n",
      "Epoch 19/100\n",
      "500/500 [==============================] - 3s 6ms/step - loss: 0.2013 - val_loss: 0.2038\n",
      "Epoch 20/100\n",
      "500/500 [==============================] - 3s 6ms/step - loss: 0.2011 - val_loss: 0.2054\n",
      "Epoch 21/100\n",
      "500/500 [==============================] - 3s 6ms/step - loss: 0.2011 - val_loss: 0.2072\n",
      "Epoch 22/100\n",
      "500/500 [==============================] - 3s 6ms/step - loss: 0.2010 - val_loss: 0.2039\n",
      "Epoch 23/100\n",
      "500/500 [==============================] - 3s 6ms/step - loss: 0.2007 - val_loss: 0.2038\n",
      "Epoch 24/100\n",
      "500/500 [==============================] - 3s 6ms/step - loss: 0.2009 - val_loss: 0.2040\n",
      "Epoch 25/100\n",
      "500/500 [==============================] - 3s 6ms/step - loss: 0.2006 - val_loss: 0.2058\n"
     ]
    },
    {
     "data": {
      "text/plain": [
       "<keras.callbacks.History at 0x25b000951c0>"
      ]
     },
     "execution_count": 5,
     "metadata": {},
     "output_type": "execute_result"
    }
   ],
   "source": [
    "model.compile(loss=\"mae\", optimizer=\"adam\")\n",
    "\n",
    "model.fit(\n",
    "    x_train,\n",
    "    coordinates_train,\n",
    "    epochs=100,\n",
    "    batch_size=16,\n",
    "    shuffle=True,\n",
    "    validation_data=(x_val, coordinates_val),\n",
    "    callbacks=[\n",
    "        EarlyStopping(\n",
    "            monitor=\"val_loss\", patience=10, restore_best_weights=True, min_delta=0.0001\n",
    "        )\n",
    "    ],\n",
    ")"
   ]
  },
  {
   "attachments": {},
   "cell_type": "markdown",
   "metadata": {},
   "source": [
    "### Model results"
   ]
  },
  {
   "cell_type": "code",
   "execution_count": 6,
   "metadata": {},
   "outputs": [
    {
     "name": "stdout",
     "output_type": "stream",
     "text": [
      "32/32 [==============================] - 0s 6ms/step\n",
      "0\n",
      "Prediction: [ 4.7458196e-01  3.4244683e-01  4.5479989e-01  3.3794156e-01\n",
      "  4.5714450e-01  3.2935190e-01 -3.9898101e-03 -1.6008335e-01\n",
      "  4.5656506e-04 -1.5499625e-01 -1.6034730e-03 -1.4070415e-01]\n",
      "Actual coordinates: [ 0.4516129   0.61290323  0.22580645  0.22580645  0.80645161  0.29032258\n",
      "  0.         -0.5        -0.5        -0.25        0.25        0.5       ]\n",
      "1\n",
      "Prediction: [4.2474294e-01 5.8809561e-01 4.1419682e-01 5.8947599e-01 3.9806744e-01\n",
      " 5.8337849e-01 3.4215380e-03 1.1874834e-01 3.8462207e-03 1.3342339e-01\n",
      " 5.1869079e-04 1.4195505e-01]\n",
      "Actual coordinates: [ 0.4516129   0.74193548  0.32258065  0.58064516  0.64516129  0.22580645\n",
      "  0.          0.25        0.          0.          0.         -0.25      ]\n",
      "2\n",
      "Prediction: [ 4.8165262e-01  4.8015001e-01  4.6362936e-01  4.7157559e-01\n",
      "  4.5890650e-01  4.6778053e-01 -2.3308038e-03 -2.1976262e-01\n",
      "  1.0068873e-03 -2.0865187e-01 -3.5719760e-04 -2.1667551e-01]\n",
      "Actual coordinates: [ 0.74193548  0.80645161  0.4516129   0.41935484  0.70967742  0.5483871\n",
      "  0.         -0.5        -0.25        0.5        -0.25       -0.5       ]\n",
      "3\n",
      "Prediction: [ 0.6924205   0.4764958   0.66504925  0.47289026  0.6619412   0.46686453\n",
      " -0.00506266  0.08194365  0.0027288   0.05885538 -0.00173245  0.0762116 ]\n",
      "Actual coordinates: [ 0.67741935  0.74193548  0.5483871   0.35483871  0.61290323  0.38709677\n",
      " -0.25        0.25        0.25       -0.25       -0.25       -0.25      ]\n",
      "4\n",
      "Prediction: [ 0.4723398   0.4447317   0.45533285  0.44492024  0.45048204  0.43638593\n",
      " -0.00071188  0.01744559  0.00229682  0.0219637  -0.00083627  0.04182555]\n",
      "Actual coordinates: [ 0.19354839  0.48387097  0.70967742  0.16129032  0.4516129   0.67741935\n",
      " -0.25       -0.5        -0.5         0.         -0.25        0.25      ]\n"
     ]
    }
   ],
   "source": [
    "predictions = model.predict(x_test)\n",
    "\n",
    "for i in range(5):\n",
    "    print(\n",
    "        str(i)\n",
    "        + \"\\nPrediction: \"\n",
    "        + str(predictions[i])\n",
    "        + \"\\nActual coordinates: \"\n",
    "        + str(coordinates_test[i])\n",
    "    )"
   ]
  }
 ],
 "metadata": {
  "accelerator": "GPU",
  "colab": {
   "provenance": []
  },
  "gpuClass": "standard",
  "kernelspec": {
   "display_name": "thesis",
   "language": "python",
   "name": "python3"
  },
  "language_info": {
   "codemirror_mode": {
    "name": "ipython",
    "version": 3
   },
   "file_extension": ".py",
   "mimetype": "text/x-python",
   "name": "python",
   "nbconvert_exporter": "python",
   "pygments_lexer": "ipython3",
   "version": "3.9.15"
  },
  "orig_nbformat": 4,
  "vscode": {
   "interpreter": {
    "hash": "63a4dc49e75b3ba52538fc9a96138b714fbb90abc770225ff62782ff75259691"
   }
  }
 },
 "nbformat": 4,
 "nbformat_minor": 0
}
